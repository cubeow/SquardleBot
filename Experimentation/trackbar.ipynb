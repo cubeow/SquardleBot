{
 "cells": [
  {
   "cell_type": "code",
   "execution_count": 1,
   "metadata": {},
   "outputs": [
    {
     "name": "stderr",
     "output_type": "stream",
     "text": [
      "usage: ipykernel_launcher.py [-h] [--input1 INPUT1] [--input2 INPUT2]\n",
      "ipykernel_launcher.py: error: unrecognized arguments: --f=/Users/sagewong/Library/Jupyter/runtime/kernel-v302f860995ff69525b91e841736ee83241e968877.json\n"
     ]
    },
    {
     "ename": "SystemExit",
     "evalue": "2",
     "output_type": "error",
     "traceback": [
      "An exception has occurred, use %tb to see the full traceback.\n",
      "\u001b[0;31mSystemExit\u001b[0m\u001b[0;31m:\u001b[0m 2\n"
     ]
    },
    {
     "name": "stderr",
     "output_type": "stream",
     "text": [
      "/Users/sagewong/git/SquardleBot/.venv/lib/python3.9/site-packages/IPython/core/interactiveshell.py:3558: UserWarning: To exit: use 'exit', 'quit', or Ctrl-D.\n",
      "  warn(\"To exit: use 'exit', 'quit', or Ctrl-D.\", stacklevel=1)\n"
     ]
    }
   ],
   "source": [
    "from __future__ import print_function\n",
    "from __future__ import division\n",
    "import cv2 as cv\n",
    "import argparse\n",
    "\n",
    "alpha_slider_max = 100\n",
    "title_window = 'Linear Blend'\n",
    "\n",
    "def on_trackbar(val):\n",
    "    alpha = val / alpha_slider_max\n",
    "    beta = ( 1.0 - alpha )\n",
    "    dst = cv.addWeighted(src1, alpha, src2, beta, 0.0)\n",
    "    cv.imshow(title_window, dst)\n",
    "\n",
    "parser = argparse.ArgumentParser(description='Code for Adding a Trackbar to our applications tutorial.')\n",
    "parser.add_argument('--input1', help='Path to the first input image.', default='LinuxLogo.jpg')\n",
    "parser.add_argument('--input2', help='Path to the second input image.', default='WindowsLogo.jpg')\n",
    "args = parser.parse_args()\n",
    "\n",
    "src1 = cv.imread(cv.samples.findFile(args.input1))\n",
    "src2 = cv.imread(cv.samples.findFile(args.input2))\n",
    "\n",
    "cv.namedWindow(title_window)\n",
    "\n",
    "trackbar_name = 'Alpha x %d' % alpha_slider_max\n",
    "cv.createTrackbar(trackbar_name, title_window , 0, alpha_slider_max, on_trackbar)\n",
    "\n",
    "on_trackbar(0)\n",
    "\n",
    "cv.waitKey()\n"
   ]
  }
 ],
 "metadata": {
  "kernelspec": {
   "display_name": ".venv",
   "language": "python",
   "name": "python3"
  },
  "language_info": {
   "codemirror_mode": {
    "name": "ipython",
    "version": 3
   },
   "file_extension": ".py",
   "mimetype": "text/x-python",
   "name": "python",
   "nbconvert_exporter": "python",
   "pygments_lexer": "ipython3",
   "version": "3.9.6"
  }
 },
 "nbformat": 4,
 "nbformat_minor": 2
}
